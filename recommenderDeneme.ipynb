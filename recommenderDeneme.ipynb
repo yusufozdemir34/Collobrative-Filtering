{
 "cells": [
  {
   "cell_type": "code",
   "execution_count": 92,
   "metadata": {
    "collapsed": true
   },
   "outputs": [],
   "source": [
    "import re\n",
    "\n",
    "class User:\n",
    "    def __init__(self, id, age, sex, occupation, zip):\n",
    "        self.id = int(id)\n",
    "        self.age = int(age)\n",
    "        self.sex = sex\n",
    "        self.occupation = occupation\n",
    "        self.zip = zip\n",
    "        self.avg_r = 0.0\n",
    "\n",
    "class Item:\n",
    "    def __init__(self, id, title, release_date, video_release_date, imdb_url, \\\n",
    "    unknown, action, adventure, animation, childrens, comedy, crime, documentary, \\\n",
    "    drama, fantasy, film_noir, horror, musical, mystery ,romance, sci_fi, thriller, war, western):\n",
    "        self.id = int(id)\n",
    "        self.title = title\n",
    "        self.release_date = release_date\n",
    "        self.video_release_date = video_release_date\n",
    "        self.imdb_url = imdb_url\n",
    "        self.unknown = int(unknown)\n",
    "        self.action = int(action)\n",
    "        self.adventure = int(adventure)\n",
    "        self.animation = int(animation)\n",
    "        self.childrens = int(childrens)\n",
    "        self.comedy = int(comedy)\n",
    "        self.crime = int(crime)\n",
    "        self.documentary = int(documentary)\n",
    "        self.drama = int(drama)\n",
    "        self.fantasy = int(fantasy)\n",
    "        self.film_noir = int(film_noir)\n",
    "        self.horror = int(horror)\n",
    "        self.musical = int(musical)\n",
    "        self.mystery = int(mystery)\n",
    "        self.romance = int(romance)\n",
    "        self.sci_fi = int(sci_fi)\n",
    "        self.thriller = int(thriller)\n",
    "        self.war = int(war)\n",
    "        self.western = int(western)\n",
    "\n",
    "class Rating:\n",
    "    def __init__(self, user_id, item_id, rating, time):\n",
    "        self.user_id = int(user_id)\n",
    "        self.item_id = int(item_id)\n",
    "        self.rating = int(rating)\n",
    "        self.time = time\n",
    "\n",
    "# User - Item ve Rating verilerini belirlenecek dizilere eklemeyi sağlayacak.\n",
    "class Dataset:\n",
    "    def load_users(self, file, u):\n",
    "        f = open(file, \"r\")\n",
    "        text = f.read()\n",
    "        entries = re.split(\"\\n+\", text)\n",
    "        for entry in entries:\n",
    "            e = entry.split('|', 5)\n",
    "            if len(e) == 5:\n",
    "                u.append(User(e[0], e[1], e[2], e[3], e[4]))\n",
    "        f.close()\n",
    "\n",
    "    def load_items(self, file, i):\n",
    "        f = open(file, \"r\")\n",
    "        text = f.read()\n",
    "        entries = re.split(\"\\n+\", text)\n",
    "        for entry in entries:\n",
    "            e = entry.split('|', 24)\n",
    "            if len(e) == 24:\n",
    "                i.append(Item(e[0], e[1], e[2], e[3], e[4], e[5], e[6], e[7], e[8], e[9], e[10], \\\n",
    "                e[11], e[12], e[13], e[14], e[15], e[16], e[17], e[18], e[19], e[20], e[21], \\\n",
    "                e[22], e[23]))\n",
    "        f.close()\n",
    "\n",
    "    def load_ratings(self, file, r):\n",
    "        f = open(file, \"r\")\n",
    "        text = f.read()\n",
    "        entries = re.split(\"\\n+\", text)\n",
    "        for entry in entries:\n",
    "            e = entry.split('\\t', 4)\n",
    "            if len(e) == 4:\n",
    "                r.append(Rating(e[0], e[1], e[2], e[3]))\n",
    "        f.close()"
   ]
  },
  {
   "cell_type": "code",
   "execution_count": 93,
   "metadata": {
    "collapsed": true
   },
   "outputs": [],
   "source": [
    "import sys\n",
    "import time\n",
    "import math\n",
    "import re\n",
    "import pickle\n",
    "\n",
    "import numpy as np\n",
    "\n",
    "from sklearn.cluster import KMeans\n",
    "from sklearn.metrics import mean_squared_error"
   ]
  },
  {
   "cell_type": "code",
   "execution_count": 94,
   "metadata": {
    "collapsed": true
   },
   "outputs": [],
   "source": [
    "# verilerin tutulacağı diziler\n",
    "user = []\n",
    "item = []\n",
    "rating = []\n",
    "rating_test = []"
   ]
  },
  {
   "cell_type": "code",
   "execution_count": 95,
   "metadata": {
    "collapsed": false
   },
   "outputs": [
    {
     "data": {
      "text/plain": [
       "943"
      ]
     },
     "execution_count": 95,
     "metadata": {},
     "output_type": "execute_result"
    }
   ],
   "source": [
    "# Dataset class kullanarak veriyi dizilere aktarma\n",
    "d = Dataset()\n",
    "d.load_users(\"data/u.user\", user)\n",
    "d.load_items(\"data/u.item\", item)\n",
    "d.load_ratings(\"data/ua.base\", rating)\n",
    "d.load_ratings(\"data/ua.test\", rating_test)\n",
    "\n",
    "n_users = len(user)\n",
    "n_items = len(item)\n",
    "n_users"
   ]
  },
  {
   "cell_type": "code",
   "execution_count": 96,
   "metadata": {
    "collapsed": false
   },
   "outputs": [
    {
     "name": "stdout",
     "output_type": "stream",
     "text": [
      "[[ 5.  3.  4. ...,  0.  0.  0.]\n",
      " [ 4.  0.  0. ...,  0.  0.  0.]\n",
      " [ 0.  0.  0. ...,  0.  0.  0.]\n",
      " ..., \n",
      " [ 5.  0.  0. ...,  0.  0.  0.]\n",
      " [ 0.  0.  0. ...,  0.  0.  0.]\n",
      " [ 0.  5.  0. ...,  0.  0.  0.]]\n"
     ]
    }
   ],
   "source": [
    "# utility user-item tablo sonucu olarak rating tutmaktadır.\n",
    "#NumPy sıfırlar işlevi, yalnızca sıfır içeren NumPy dizileri oluşturmanıza olanak sağlar. ",
    "#Daha da önemlisi, bu işlev dizinin tam boyutlarını belirlemenizi sağlar. ",
    "#Ayrıca tam veri türünü belirlemenize de olanak tanır. ",
    "utility = np.zeros((n_users, n_items))\n",
    "for r in rating:\n",
    "    utility[r.user_id - 1][r.item_id - 1] = r.rating\n",
    "print (utility)\n",
    "\n",
    "test = np.zeros((n_users, n_items))\n",
    "for r in rating_test:\n",
    "    test[r.user_id - 1][r.item_id - 1] = r.rating"
   ]
  },
  {
   "cell_type": "code",
   "execution_count": 97,
   "metadata": {
    "collapsed": true
   },
   "outputs": [],
   "source": [
    "# Itemların genre üzerindeki clusterı\n",
    "movie_genre = []\n",
    "for movie in item:\n",
    "    movie_genre.append([movie.unknown, movie.action, movie.adventure, movie.animation, movie.childrens, movie.comedy,\n",
    "                        movie.crime, movie.documentary, movie.drama, movie.fantasy, movie.film_noir, movie.horror,\n",
    "                        movie.musical, movie.mystery, movie.romance, movie.sci_fi, movie.thriller, movie.war, movie.western])\n",
    "\n",
    "movie_genre = np.array(movie_genre)\n",
    "cluster = KMeans(n_clusters=19)\n",
    "cluster.fit_predict(movie_genre)\n",
    "#modell uygulanması.\n",
    "utility_clustered = []\n",
    "for i in range(0, n_users):\n",
    "    average = np.zeros(19)\n",
    "    tmp = []\n",
    "    for m in range(0, 19):\n",
    "        tmp.append([])\n",
    "    for j in range(0, n_items):\n",
    "        if utility[i][j] != 0:\n",
    "            tmp[cluster.labels_[j] - 1].append(utility[i][j]) \n",
    "            #her tür clusterı için verilen oylar tmpde\n",
    "    for m in range(0, 19):\n",
    "        if len(tmp[m]) != 0:\n",
    "            average[m] = np.mean(tmp[m])\n",
    "            #her tür clusterı için verilen oyların ortalamaları\n",
    "        else:\n",
    "            average[m] = 0\n",
    "    utility_clustered.append(average)\n",
    "##her userın clusterlara verdiği oy ortalaması\n",
    "utility_clustered = np.array(utility_clustered)"
   ]
  },
  {
   "cell_type": "code",
   "execution_count": 98,
   "metadata": {
    "collapsed": false
   },
   "outputs": [],
   "source": [
    "# her kullanıcının verdiği oyların ortalamaları User objesinde tutuluyor.\n",
    "for i in range(0, n_users):\n",
    "    x = utility_clustered[i]\n",
    "    user[i].avg_r = sum(a for a in x if a > 0) / sum(a > 0 for a in x)"
   ]
  },
  {
   "cell_type": "code",
   "execution_count": 99,
   "metadata": {
    "collapsed": false
   },
   "outputs": [
    {
     "name": "stdout",
     "output_type": "stream",
     "text": [
      "Similarity Matrix [943:942] = -0.211927\n",
      "[[ 0.          0.          0.         ...,  0.          0.          0.        ]\n",
      " [-0.23132861  0.          0.         ...,  0.          0.          0.        ]\n",
      " [ 0.413449    0.27292922  0.         ...,  0.          0.          0.        ]\n",
      " ..., \n",
      " [-0.06766114  0.         -0.08916555 ...,  0.          0.          0.        ]\n",
      " [-0.22796063  0.23352911  0.18544958 ..., -0.02269778  0.          0.        ]\n",
      " [ 0.14313824 -0.49326448  0.04227897 ..., -0.01374137 -0.21192691  0.        ]]\n"
     ]
    }
   ],
   "source": [
    "# Pearson Korelasyonu. Userlar arasında dolayısı ile user based.\n",
    "#item based olması için itemler arasında ilişki hesabı da yapılacak.\n",
    "def pearson(x, y):\n",
    "    num = 0\n",
    "    den1 = 0\n",
    "    den2 = 0\n",
    "    A = utility_clustered[x - 1]\n",
    "    B = utility_clustered[y - 1]\n",
    "    num = sum((a - user[x - 1].avg_r) * (b - user[y - 1].avg_r) for a, b in zip(A, B) if a > 0 and b > 0)\n",
    "    den1 = sum((a - user[x - 1].avg_r) ** 2 for a in A if a > 0)\n",
    "    den2 = sum((b - user[y - 1].avg_r) ** 2 for b in B if b > 0)\n",
    "    den = (den1 ** 0.5) * (den2 ** 0.5)\n",
    "    if den == 0:\n",
    "        return 0\n",
    "    else:\n",
    "        return num / den\n",
    "\n",
    "pcs_matrix = np.zeros((n_users, n_users))\n",
    "for i in range(0, n_users):\n",
    "    for j in range(0, i):\n",
    "        if i!=j:\n",
    "            pcs_matrix[i][j] = pearson(i + 1, j + 1)\n",
    "            sys.stdout.write(\"\\rSimilarity Matrix [%d:%d] = %f\" % (i+1, j+1, pcs_matrix[i][j]))\n",
    "            sys.stdout.flush()\n",
    "            time.sleep(0.00005)\n",
    "print (\"\\rSimilarity Matrix [%d:%d] = %f\" % (i+1, j+1, pcs_matrix[i][j]))\n",
    "\n",
    "print (pcs_matrix)"
   ]
  },
  {
   "cell_type": "code",
   "execution_count": 100,
   "metadata": {
    "collapsed": false
   },
   "outputs": [],
   "source": [
    "def norm():\n",
    "    normalize = np.zeros((n_users, 19))\n",
    "    for i in range(0, n_users):\n",
    "        for j in range(0, 19):\n",
    "            if utility_clustered[i][j] != 0:\n",
    "                normalize[i][j] = utility_clustered[i][j] - user[i].avg_r\n",
    "            else:\n",
    "                normalize[i][j] = float('Inf')\n",
    "    return normalize"
   ]
  },
  {
   "cell_type": "code",
   "execution_count": 103,
   "metadata": {
    "collapsed": false
   },
   "outputs": [
    {
     "name": "stdout",
     "output_type": "stream",
     "text": [
      "Prediction [User:Rating] = [942:18]\n",
      "[[ 3.53333333  3.75        3.37777778 ...,  3.5         4.          3.72727273]\n",
      " [ 3.5         4.33333333  3.6        ...,  3.96287902  3.8169233   3.        ]\n",
      " [ 2.22222222  3.          2.8        ...,  3.32269684  3.21657751  3.        ]\n",
      " ..., \n",
      " [ 4.13443327  4.32341499  4.         ...,  3.94313851  4.29700868\n",
      "   4.24305625]\n",
      " [ 4.25        4.4         3.57142857 ...,  4.5         4.          4.75      ]\n",
      " [ 3.66666667  2.2         2.68       ...,  3.33333333  4.          3.28571429]]\n"
     ]
    }
   ],
   "source": [
    "# user_id - oyu tahmin edilecek user\n",
    "# i_id - kullanıcının tahmin edilecek oyu verdiği item clusterı\n",
    "# top_n - bu benzerlik hesabı için kullanılacak benzer user sayısı.\n",
    "def predict(user_id, i_id, top_n):\n",
    "    similarity = []\n",
    "    for i in range(0, n_users):\n",
    "        if i+1 != user_id:\n",
    "            similarity.append(pcs_matrix[user_id-1][i])\n",
    "    temp = norm()\n",
    "    temp = np.delete(temp, user_id-1, 0)\n",
    "    top = [x for (y,x) in sorted(zip(similarity,temp), key=lambda pair: pair[0], reverse=True)]\n",
    "    #top: benzerlik ve oylama matrislerinin zip ile eşleşmesi sonucu sorted ile sıralanması ile\n",
    "    #en yüksek benzerlik oranına sahip bireylerin oylarını saklar.\n",
    "    s = 0\n",
    "    c = 0\n",
    "    for i in range(0, top_n):\n",
    "        if top[i][i_id-1] != float('Inf'): # infinitive : sınırsız bir üst değer işlevi görür. bu işin sonuna kadar yani\n",
    "            s += top[i][i_id-1] # top'daki oyların toplamı\n",
    "            c += 1 #oy sayısı. bu hem ortalama için hem de oy olup olmadığı kontrolü için\n",
    "    rate = user[user_id-1].avg_r if c == 0 else s/float(c) + user[user_id-1].avg_r\n",
    "    # eğer hiç oy yoksa kullanıcının kendi ortalama oyunu kabul et\n",
    "    # oy varsa en benzer kullanıcıların o film için verdiği oyların ortalamasını kullanıcı için ata. USER-BASED\n",
    "    if rate < 1.0:\n",
    "        return 1.0\n",
    "    elif rate > 5.0:\n",
    "        return 5.0\n",
    "    else:\n",
    "        return rate\n",
    "\n",
    "utility_copy = np.copy(utility_clustered)\n",
    "for i in range(0, n_users):\n",
    "    for j in range(0, 19):\n",
    "        if utility_copy[i][j] == 0:\n",
    "            sys.stdout.write(\"\\rPrediction [User:Rating] = [%d:%d]\" % (i, j))\n",
    "            #print ile tüm döngüyü yazıyor. stdout ile her sonuç dönüyor.\n",
    "            utility_copy[i][j] = predict(i+1, j+1, 50)\n",
    "print (\"\\rPrediction [User:Rating] = [%d:%d]\" % (i, j))\n",
    "\n",
    "print (utility_copy)\n"
   ]
  },
  {
   "cell_type": "code",
   "execution_count": 104,
   "metadata": {
    "collapsed": false
   },
   "outputs": [
    {
     "name": "stdout",
     "output_type": "stream",
     "text": [
      "Mean Squared Error: 1.245726\n"
     ]
    }
   ],
   "source": [
    "# test datası ile tehmin arasında MSE\n",
    "y_true = []\n",
    "y_pred = []\n",
    "for i in range(0, n_users):\n",
    "    for j in range(0, n_items):\n",
    "        if test[i][j] > 0:\n",
    "            y_true.append(test[i][j])\n",
    "            y_pred.append(utility_copy[i][cluster.labels_[j]-1])\n",
    "\n",
    "print (\"Mean Squared Error: %f\" % mean_squared_error(y_true, y_pred))"
   ]
  },
  {
   "cell_type": "code",
   "execution_count": null,
   "metadata": {
    "collapsed": true
   },
   "outputs": [],
   "source": []
  }
 ],
 "metadata": {
  "kernelspec": {
   "display_name": "Python 3",
   "language": "python",
   "name": "python3"
  },
  "language_info": {
   "codemirror_mode": {
    "name": "ipython",
    "version": 3
   },
   "file_extension": ".py",
   "mimetype": "text/x-python",
   "name": "python",
   "nbconvert_exporter": "python",
   "pygments_lexer": "ipython3",
   "version": "3.6.0"
  }
 },
 "nbformat": 4,
 "nbformat_minor": 2
}
